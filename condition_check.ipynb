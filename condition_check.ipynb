{
 "cells": [
  {
   "cell_type": "code",
   "execution_count": 1,
   "metadata": {},
   "outputs": [],
   "source": [
    "import datetime\n",
    "\n",
    "def is_valid_time():\n",
    "    current_time = datetime.datetime.now().time()\n",
    "    start_time = datetime.time(18, 0)  # 6 PM\n",
    "    end_time = datetime.time(22, 0)    # 10 PM\n",
    "    return start_time <= current_time <= end_time"
   ]
  },
  {
   "cell_type": "code",
   "execution_count": 2,
   "metadata": {},
   "outputs": [],
   "source": [
    "import numpy as np\n",
    "from tensorflow.keras.preprocessing.image import load_img, img_to_array\n",
    "from tensorflow.keras.models import load_model\n",
    "from sklearn.preprocessing import LabelEncoder\n"
   ]
  },
  {
   "cell_type": "code",
   "execution_count": 3,
   "metadata": {},
   "outputs": [
    {
     "name": "stderr",
     "output_type": "stream",
     "text": [
      "WARNING:absl:Compiled the loaded model, but the compiled metrics have yet to be built. `model.compile_metrics` will be empty until you train or evaluate the model.\n"
     ]
    }
   ],
   "source": [
    "# Load the trained model\n",
    "model = load_model('Sign_Language_Model.h5')"
   ]
  },
  {
   "cell_type": "code",
   "execution_count": 4,
   "metadata": {},
   "outputs": [],
   "source": [
    "# Instantiate the LabelEncoder and load the label encoder classes\n",
    "label_encoder = LabelEncoder()\n",
    "label_encoder.classes_ = np.load('classes.npy')"
   ]
  },
  {
   "cell_type": "code",
   "execution_count": 5,
   "metadata": {},
   "outputs": [],
   "source": [
    "# Function to preprocess a single image\n",
    "def preprocess_image(image_path, img_size=(64, 64)):\n",
    "    image = load_img(image_path, target_size=img_size)\n",
    "    image = img_to_array(image)\n",
    "    image = image / 255.0\n",
    "    return image"
   ]
  },
  {
   "cell_type": "code",
   "execution_count": 6,
   "metadata": {},
   "outputs": [],
   "source": [
    "# Define the prediction function for images\n",
    "def predict_sign_language(image_path):\n",
    "    if not is_valid_time():\n",
    "        print(\"Predictions are only allowed between 6 PM and 10 PM\")\n",
    "        return\n",
    "\n",
    "    image = preprocess_image(image_path)\n",
    "    image = np.expand_dims(image, axis=0)\n",
    "    prediction = model.predict(image)\n",
    "    predicted_class = np.argmax(prediction)\n",
    "    return label_encoder.inverse_transform([predicted_class])[0]\n"
   ]
  },
  {
   "cell_type": "code",
   "execution_count": 7,
   "metadata": {},
   "outputs": [
    {
     "name": "stdout",
     "output_type": "stream",
     "text": [
      "\u001b[1m1/1\u001b[0m \u001b[32m━━━━━━━━━━━━━━━━━━━━\u001b[0m\u001b[37m\u001b[0m \u001b[1m0s\u001b[0m 156ms/step\n",
      "A\n"
     ]
    }
   ],
   "source": [
    "# Example usage\n",
    "image_path = 'C:\\\\Age and Gender Detection\\\\Intrenship task\\\\Internship task\\\\Task 2\\\\data\\\\A\\\\3.jpg'  # Replace with the path to your image file\n",
    "prediction = predict_sign_language(image_path)\n",
    "print(prediction)"
   ]
  },
  {
   "cell_type": "code",
   "execution_count": 8,
   "metadata": {},
   "outputs": [
    {
     "name": "stderr",
     "output_type": "stream",
     "text": [
      "Exception in Tkinter callback\n",
      "Traceback (most recent call last):\n",
      "  File \"c:\\Users\\Lenovo\\AppData\\Local\\Programs\\Python\\Python312\\Lib\\tkinter\\__init__.py\", line 1967, in __call__\n",
      "    return self.func(*args)\n",
      "           ^^^^^^^^^^^^^^^^\n",
      "  File \"C:\\Users\\Lenovo\\AppData\\Local\\Temp\\ipykernel_7148\\3625904120.py\", line 11, in upload_image\n",
      "    img = ImageOps.fit(img, (200, 200), Image.ANTIALIAS)\n",
      "                                        ^^^^^^^^^^^^^^^\n",
      "AttributeError: module 'PIL.Image' has no attribute 'ANTIALIAS'\n",
      "Exception in Tkinter callback\n",
      "Traceback (most recent call last):\n",
      "  File \"c:\\Users\\Lenovo\\AppData\\Local\\Programs\\Python\\Python312\\Lib\\tkinter\\__init__.py\", line 1967, in __call__\n",
      "    return self.func(*args)\n",
      "           ^^^^^^^^^^^^^^^^\n",
      "  File \"C:\\Users\\Lenovo\\AppData\\Local\\Temp\\ipykernel_7148\\3625904120.py\", line 11, in upload_image\n",
      "    img = ImageOps.fit(img, (200, 200), Image.ANTIALIAS)\n",
      "                                        ^^^^^^^^^^^^^^^\n",
      "AttributeError: module 'PIL.Image' has no attribute 'ANTIALIAS'\n"
     ]
    }
   ],
   "source": [
    "import tkinter as tk\n",
    "from tkinter import filedialog, messagebox\n",
    "from PIL import Image, ImageTk\n",
    "from PIL import Image, ImageOps\n",
    "# Inside the upload_image function\n",
    "def upload_image():\n",
    "    file_path = filedialog.askopenfilename()\n",
    "    if file_path:\n",
    "        # Open and resize the image with anti-aliasing\n",
    "        img = Image.open(file_path)\n",
    "        img = ImageOps.fit(img, (200, 200), Image.ANTIALIAS)\n",
    "        \n",
    "        # Display the resized image\n",
    "        img = ImageTk.PhotoImage(img)\n",
    "        panel.config(image=img)\n",
    "        panel.image = img\n",
    "        \n",
    "        # Predict the sign language in the image\n",
    "        predict_sign_language(file_path)\n",
    "\n",
    "# Set up the GUI\n",
    "root = tk.Tk()\n",
    "root.title(\"Sign Language Recognition\")\n",
    "\n",
    "# Create a button to upload an image\n",
    "upload_btn = tk.Button(root, text=\"Upload Image\", command=upload_image)\n",
    "upload_btn.pack(pady=20)\n",
    "\n",
    "# Create a label to display the selected image\n",
    "panel = tk.Label(root)\n",
    "panel.pack(pady=20)\n",
    "\n",
    "# Create a label to display the prediction result\n",
    "result_label = tk.Label(root, text=\"Prediction: \", font=(\"Helvetica\", 16))\n",
    "result_label.pack(pady=20)\n",
    "\n",
    "# Run the GUI loop\n",
    "root.mainloop()"
   ]
  }
 ],
 "metadata": {
  "kernelspec": {
   "display_name": "Python 3",
   "language": "python",
   "name": "python3"
  },
  "language_info": {
   "codemirror_mode": {
    "name": "ipython",
    "version": 3
   },
   "file_extension": ".py",
   "mimetype": "text/x-python",
   "name": "python",
   "nbconvert_exporter": "python",
   "pygments_lexer": "ipython3",
   "version": "3.12.3"
  }
 },
 "nbformat": 4,
 "nbformat_minor": 2
}
